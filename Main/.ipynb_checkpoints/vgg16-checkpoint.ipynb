{
 "cells": [
  {
   "cell_type": "code",
   "execution_count": 9,
   "metadata": {
    "execution": {
     "iopub.execute_input": "2023-01-01T16:33:39.738177Z",
     "iopub.status.busy": "2023-01-01T16:33:39.737444Z",
     "iopub.status.idle": "2023-01-01T16:33:49.645335Z",
     "shell.execute_reply": "2023-01-01T16:33:49.644151Z",
     "shell.execute_reply.started": "2023-01-01T16:33:39.738141Z"
    }
   },
   "outputs": [
    {
     "name": "stdout",
     "output_type": "stream",
     "text": [
      "Collecting imutils\n",
      "  Using cached imutils-0.5.4-py3-none-any.whl\n",
      "Installing collected packages: imutils\n",
      "Successfully installed imutils-0.5.4\n",
      "\u001b[33mWARNING: Running pip as the 'root' user can result in broken permissions and conflicting behaviour with the system package manager. It is recommended to use a virtual environment instead: https://pip.pypa.io/warnings/venv\u001b[0m\u001b[33m\n",
      "\u001b[0m"
     ]
    }
   ],
   "source": [
    "!pip3 install imutils\n",
    "# !pip3 install sklearn"
   ]
  },
  {
   "cell_type": "code",
   "execution_count": 10,
   "metadata": {
    "execution": {
     "iopub.execute_input": "2023-01-01T16:34:01.177390Z",
     "iopub.status.busy": "2023-01-01T16:34:01.176392Z",
     "iopub.status.idle": "2023-01-01T16:34:01.190434Z",
     "shell.execute_reply": "2023-01-01T16:34:01.189447Z",
     "shell.execute_reply.started": "2023-01-01T16:34:01.177351Z"
    }
   },
   "outputs": [],
   "source": [
    "from tensorflow.keras.preprocessing.image import ImageDataGenerator\n",
    "from tensorflow.keras.applications import VGG16\n",
    "from tensorflow.keras.layers import AveragePooling2D\n",
    "from tensorflow.keras.layers import Dropout\n",
    "from tensorflow.keras.layers import Flatten\n",
    "from tensorflow.keras.layers import Dense\n",
    "from tensorflow.keras.layers import Input\n",
    "from tensorflow.keras.models import Model\n",
    "from tensorflow.keras.optimizers import Adam\n",
    "from tensorflow.keras.utils import to_categorical\n",
    "from sklearn.preprocessing import LabelBinarizer\n",
    "from sklearn.model_selection import train_test_split\n",
    "from sklearn.metrics import classification_report\n",
    "from sklearn.metrics import confusion_matrix\n",
    "from imutils import paths\n",
    "import matplotlib.pyplot as plt\n",
    "import numpy as np\n",
    "import argparse\n",
    "import cv2\n",
    "import os"
   ]
  },
  {
   "cell_type": "code",
   "execution_count": 11,
   "metadata": {
    "execution": {
     "iopub.execute_input": "2023-01-01T16:34:02.487689Z",
     "iopub.status.busy": "2023-01-01T16:34:02.487314Z",
     "iopub.status.idle": "2023-01-01T16:34:02.492545Z",
     "shell.execute_reply": "2023-01-01T16:34:02.491384Z",
     "shell.execute_reply.started": "2023-01-01T16:34:02.487657Z"
    }
   },
   "outputs": [],
   "source": [
    "data_dir= '/kaggle/input/fall-mog-halfdata'"
   ]
  },
  {
   "cell_type": "code",
   "execution_count": 12,
   "metadata": {
    "execution": {
     "iopub.execute_input": "2023-01-01T16:34:03.163027Z",
     "iopub.status.busy": "2023-01-01T16:34:03.162097Z",
     "iopub.status.idle": "2023-01-01T16:34:03.175922Z",
     "shell.execute_reply": "2023-01-01T16:34:03.173785Z",
     "shell.execute_reply.started": "2023-01-01T16:34:03.162991Z"
    }
   },
   "outputs": [
    {
     "data": {
      "text/plain": [
       "['data']"
      ]
     },
     "execution_count": 12,
     "metadata": {},
     "output_type": "execute_result"
    }
   ],
   "source": [
    "os.listdir(data_dir)"
   ]
  },
  {
   "cell_type": "code",
   "execution_count": 14,
   "metadata": {
    "execution": {
     "iopub.execute_input": "2023-01-01T16:34:12.755089Z",
     "iopub.status.busy": "2023-01-01T16:34:12.754624Z",
     "iopub.status.idle": "2023-01-01T16:34:17.769302Z",
     "shell.execute_reply": "2023-01-01T16:34:17.768298Z",
     "shell.execute_reply.started": "2023-01-01T16:34:12.755050Z"
    }
   },
   "outputs": [
    {
     "name": "stdout",
     "output_type": "stream",
     "text": [
      "[INFO] loading images...\n"
     ]
    }
   ],
   "source": [
    "print(\"[INFO] loading images...\")\n",
    "imagePaths = list(paths.list_images(data_dir))\n",
    "data = []\n",
    "labels = []\n",
    "\n",
    "for imagePath in imagePaths:\n",
    "\n",
    "\tlabel = imagePath.split(os.path.sep)[-2]\n",
    "\n",
    "\n",
    "\timage = cv2.imread(imagePath)\n",
    "\timage = cv2.cvtColor(image, cv2.COLOR_BGR2RGB)\n",
    "\timage = cv2.resize(image, (224, 224))\n",
    "\n",
    "\n",
    "\tdata.append(image)\n",
    "\tlabels.append(label)\n",
    "\n",
    "\n",
    "data = np.array(data) / 255.0\n",
    "labels = np.array(labels)\n",
    "\n",
    "# perform one-hot encoding on the labels\n",
    "lb = LabelBinarizer()\n",
    "labels = lb.fit_transform(labels)\n",
    "labels = to_categorical(labels)"
   ]
  },
  {
   "cell_type": "code",
   "execution_count": 15,
   "metadata": {
    "execution": {
     "iopub.execute_input": "2023-01-01T16:34:22.443226Z",
     "iopub.status.busy": "2023-01-01T16:34:22.442860Z",
     "iopub.status.idle": "2023-01-01T16:34:23.212893Z",
     "shell.execute_reply": "2023-01-01T16:34:23.211882Z",
     "shell.execute_reply.started": "2023-01-01T16:34:22.443197Z"
    }
   },
   "outputs": [],
   "source": [
    "(trainX, testX, trainY, testY) = train_test_split(data, labels,test_size=0.20,\n",
    "                                                  stratify=labels, random_state=42)"
   ]
  },
  {
   "cell_type": "code",
   "execution_count": 16,
   "metadata": {
    "execution": {
     "iopub.execute_input": "2023-01-01T16:34:36.200462Z",
     "iopub.status.busy": "2023-01-01T16:34:36.200100Z",
     "iopub.status.idle": "2023-01-01T16:34:39.636032Z",
     "shell.execute_reply": "2023-01-01T16:34:39.634981Z",
     "shell.execute_reply.started": "2023-01-01T16:34:36.200433Z"
    }
   },
   "outputs": [
    {
     "name": "stderr",
     "output_type": "stream",
     "text": [
      "2023-01-01 16:34:36.306577: I tensorflow/stream_executor/cuda/cuda_gpu_executor.cc:937] successful NUMA node read from SysFS had negative value (-1), but there must be at least one NUMA node, so returning NUMA node zero\n",
      "2023-01-01 16:34:36.424100: I tensorflow/stream_executor/cuda/cuda_gpu_executor.cc:937] successful NUMA node read from SysFS had negative value (-1), but there must be at least one NUMA node, so returning NUMA node zero\n",
      "2023-01-01 16:34:36.424961: I tensorflow/stream_executor/cuda/cuda_gpu_executor.cc:937] successful NUMA node read from SysFS had negative value (-1), but there must be at least one NUMA node, so returning NUMA node zero\n"
     ]
    },
    {
     "name": "stdout",
     "output_type": "stream",
     "text": [
      "Downloading data from https://storage.googleapis.com/tensorflow/keras-applications/vgg16/vgg16_weights_tf_dim_ordering_tf_kernels_notop.h5\n",
      "   16384/58889256 [..............................] - ETA: 0s"
     ]
    },
    {
     "name": "stderr",
     "output_type": "stream",
     "text": [
      "2023-01-01 16:34:36.426863: I tensorflow/core/platform/cpu_feature_guard.cc:142] This TensorFlow binary is optimized with oneAPI Deep Neural Network Library (oneDNN) to use the following CPU instructions in performance-critical operations:  AVX2 AVX512F FMA\n",
      "To enable them in other operations, rebuild TensorFlow with the appropriate compiler flags.\n",
      "2023-01-01 16:34:36.427185: I tensorflow/stream_executor/cuda/cuda_gpu_executor.cc:937] successful NUMA node read from SysFS had negative value (-1), but there must be at least one NUMA node, so returning NUMA node zero\n",
      "2023-01-01 16:34:36.427914: I tensorflow/stream_executor/cuda/cuda_gpu_executor.cc:937] successful NUMA node read from SysFS had negative value (-1), but there must be at least one NUMA node, so returning NUMA node zero\n",
      "2023-01-01 16:34:36.428574: I tensorflow/stream_executor/cuda/cuda_gpu_executor.cc:937] successful NUMA node read from SysFS had negative value (-1), but there must be at least one NUMA node, so returning NUMA node zero\n",
      "2023-01-01 16:34:38.463861: I tensorflow/stream_executor/cuda/cuda_gpu_executor.cc:937] successful NUMA node read from SysFS had negative value (-1), but there must be at least one NUMA node, so returning NUMA node zero\n",
      "2023-01-01 16:34:38.464774: I tensorflow/stream_executor/cuda/cuda_gpu_executor.cc:937] successful NUMA node read from SysFS had negative value (-1), but there must be at least one NUMA node, so returning NUMA node zero\n",
      "2023-01-01 16:34:38.465457: I tensorflow/stream_executor/cuda/cuda_gpu_executor.cc:937] successful NUMA node read from SysFS had negative value (-1), but there must be at least one NUMA node, so returning NUMA node zero\n",
      "2023-01-01 16:34:38.466068: I tensorflow/core/common_runtime/gpu/gpu_device.cc:1510] Created device /job:localhost/replica:0/task:0/device:GPU:0 with 15401 MB memory:  -> device: 0, name: Tesla P100-PCIE-16GB, pci bus id: 0000:00:04.0, compute capability: 6.0\n"
     ]
    },
    {
     "name": "stdout",
     "output_type": "stream",
     "text": [
      "58892288/58889256 [==============================] - 1s 0us/step\n",
      "58900480/58889256 [==============================] - 1s 0us/step\n"
     ]
    }
   ],
   "source": [
    "\n",
    "\n",
    "# initialize the training data augmentation object\n",
    "trainAug = ImageDataGenerator(\n",
    "\trotation_range=15,\n",
    "\tfill_mode=\"nearest\")\n",
    "\n",
    "# load the VGG16 network, ensuring the head fully connected layer sets are left off\n",
    "baseModel = VGG16(weights=\"imagenet\", include_top=False,input_tensor=Input(shape=(224, 224, 3)))"
   ]
  },
  {
   "cell_type": "code",
   "execution_count": 17,
   "metadata": {
    "execution": {
     "iopub.execute_input": "2023-01-01T16:34:58.223743Z",
     "iopub.status.busy": "2023-01-01T16:34:58.223232Z",
     "iopub.status.idle": "2023-01-01T16:34:58.260969Z",
     "shell.execute_reply": "2023-01-01T16:34:58.260011Z",
     "shell.execute_reply.started": "2023-01-01T16:34:58.223700Z"
    }
   },
   "outputs": [],
   "source": [
    "headModel = baseModel.output\n",
    "headModel = AveragePooling2D(pool_size=(4, 4))(headModel)\n",
    "headModel = Flatten(name=\"flatten\")(headModel)\n",
    "headModel = Dense(64, activation=\"relu\")(headModel)\n",
    "headModel = Dropout(0.5)(headModel)\n",
    "headModel = Dense(2, activation=\"softmax\")(headModel)"
   ]
  },
  {
   "cell_type": "code",
   "execution_count": 18,
   "metadata": {
    "execution": {
     "iopub.execute_input": "2023-01-01T16:34:59.784169Z",
     "iopub.status.busy": "2023-01-01T16:34:59.783811Z",
     "iopub.status.idle": "2023-01-01T16:34:59.789466Z",
     "shell.execute_reply": "2023-01-01T16:34:59.788226Z",
     "shell.execute_reply.started": "2023-01-01T16:34:59.784140Z"
    }
   },
   "outputs": [],
   "source": [
    "INIT_LR = 1e-3\n",
    "EPOCHS = 25\n",
    "BS = 8"
   ]
  },
  {
   "cell_type": "code",
   "execution_count": 19,
   "metadata": {
    "execution": {
     "iopub.execute_input": "2023-01-01T16:35:03.310467Z",
     "iopub.status.busy": "2023-01-01T16:35:03.309444Z",
     "iopub.status.idle": "2023-01-01T16:35:03.335365Z",
     "shell.execute_reply": "2023-01-01T16:35:03.334465Z",
     "shell.execute_reply.started": "2023-01-01T16:35:03.310420Z"
    }
   },
   "outputs": [
    {
     "name": "stdout",
     "output_type": "stream",
     "text": [
      "[INFO] compiling model...\n"
     ]
    },
    {
     "name": "stderr",
     "output_type": "stream",
     "text": [
      "/opt/conda/lib/python3.7/site-packages/keras/optimizer_v2/optimizer_v2.py:356: UserWarning: The `lr` argument is deprecated, use `learning_rate` instead.\n",
      "  \"The `lr` argument is deprecated, use `learning_rate` instead.\")\n"
     ]
    }
   ],
   "source": [
    "model = Model(inputs=baseModel.input, outputs=headModel)\n",
    "\n",
    "# loop over all layers in the base model and freeze them so they will\n",
    "# *not* be updated during the first training process\n",
    "for layer in baseModel.layers:\n",
    "\tlayer.trainable = False\n",
    "\n",
    "# compile our model\n",
    "print(\"[INFO] compiling model...\")\n",
    "opt = Adam(lr=INIT_LR, decay=INIT_LR / EPOCHS)\n",
    "model.compile(loss=\"binary_crossentropy\", optimizer=opt,\n",
    "\tmetrics=[\"accuracy\"])"
   ]
  },
  {
   "cell_type": "code",
   "execution_count": 20,
   "metadata": {
    "execution": {
     "iopub.execute_input": "2023-01-01T16:35:10.072414Z",
     "iopub.status.busy": "2023-01-01T16:35:10.072030Z",
     "iopub.status.idle": "2023-01-01T16:43:24.697316Z",
     "shell.execute_reply": "2023-01-01T16:43:24.695974Z",
     "shell.execute_reply.started": "2023-01-01T16:35:10.072381Z"
    }
   },
   "outputs": [
    {
     "name": "stdout",
     "output_type": "stream",
     "text": [
      "[INFO] training head...\n"
     ]
    },
    {
     "name": "stderr",
     "output_type": "stream",
     "text": [
      "/opt/conda/lib/python3.7/site-packages/keras/engine/training.py:1972: UserWarning: `Model.fit_generator` is deprecated and will be removed in a future version. Please use `Model.fit`, which supports generators.\n",
      "  warnings.warn('`Model.fit_generator` is deprecated and '\n",
      "2023-01-01 16:35:10.675997: I tensorflow/compiler/mlir/mlir_graph_optimization_pass.cc:185] None of the MLIR Optimization Passes are enabled (registered 2)\n"
     ]
    },
    {
     "name": "stdout",
     "output_type": "stream",
     "text": [
      "Epoch 1/25\n"
     ]
    },
    {
     "name": "stderr",
     "output_type": "stream",
     "text": [
      "2023-01-01 16:35:12.341516: I tensorflow/stream_executor/cuda/cuda_dnn.cc:369] Loaded cuDNN version 8005\n"
     ]
    },
    {
     "name": "stdout",
     "output_type": "stream",
     "text": [
      "220/220 [==============================] - 30s 101ms/step - loss: 0.6184 - accuracy: 0.6767 - val_loss: 0.4857 - val_accuracy: 0.9116\n",
      "Epoch 2/25\n",
      "220/220 [==============================] - 19s 86ms/step - loss: 0.4780 - accuracy: 0.8017\n",
      "Epoch 3/25\n",
      "220/220 [==============================] - 19s 88ms/step - loss: 0.3871 - accuracy: 0.8619\n",
      "Epoch 4/25\n",
      "220/220 [==============================] - 18s 84ms/step - loss: 0.3387 - accuracy: 0.8727\n",
      "Epoch 5/25\n",
      "220/220 [==============================] - 20s 91ms/step - loss: 0.2904 - accuracy: 0.9000\n",
      "Epoch 6/25\n",
      "220/220 [==============================] - 19s 88ms/step - loss: 0.2615 - accuracy: 0.9062\n",
      "Epoch 7/25\n",
      "220/220 [==============================] - 19s 88ms/step - loss: 0.2535 - accuracy: 0.9153\n",
      "Epoch 8/25\n",
      "220/220 [==============================] - 19s 87ms/step - loss: 0.2228 - accuracy: 0.9284\n",
      "Epoch 9/25\n",
      "220/220 [==============================] - 19s 87ms/step - loss: 0.2356 - accuracy: 0.9170\n",
      "Epoch 10/25\n",
      "220/220 [==============================] - 19s 86ms/step - loss: 0.2083 - accuracy: 0.9330\n",
      "Epoch 11/25\n",
      "220/220 [==============================] - 19s 88ms/step - loss: 0.1979 - accuracy: 0.9347\n",
      "Epoch 12/25\n",
      "220/220 [==============================] - 19s 85ms/step - loss: 0.1922 - accuracy: 0.9392\n",
      "Epoch 13/25\n",
      "220/220 [==============================] - 19s 88ms/step - loss: 0.1793 - accuracy: 0.9381\n",
      "Epoch 14/25\n",
      "220/220 [==============================] - 20s 89ms/step - loss: 0.1682 - accuracy: 0.9426\n",
      "Epoch 15/25\n",
      "220/220 [==============================] - 19s 86ms/step - loss: 0.1623 - accuracy: 0.9432\n",
      "Epoch 16/25\n",
      "220/220 [==============================] - 19s 88ms/step - loss: 0.1770 - accuracy: 0.9420\n",
      "Epoch 17/25\n",
      "220/220 [==============================] - 19s 85ms/step - loss: 0.1569 - accuracy: 0.9443\n",
      "Epoch 18/25\n",
      "220/220 [==============================] - 20s 89ms/step - loss: 0.1640 - accuracy: 0.9449\n",
      "Epoch 19/25\n",
      "220/220 [==============================] - 19s 88ms/step - loss: 0.1511 - accuracy: 0.9455\n",
      "Epoch 20/25\n",
      "220/220 [==============================] - 19s 86ms/step - loss: 0.1414 - accuracy: 0.9528\n",
      "Epoch 21/25\n",
      "220/220 [==============================] - 19s 89ms/step - loss: 0.1427 - accuracy: 0.9517\n",
      "Epoch 22/25\n",
      "220/220 [==============================] - 19s 86ms/step - loss: 0.1357 - accuracy: 0.9489\n",
      "Epoch 23/25\n",
      "220/220 [==============================] - 19s 87ms/step - loss: 0.1305 - accuracy: 0.9534\n",
      "Epoch 24/25\n",
      "220/220 [==============================] - 19s 87ms/step - loss: 0.1394 - accuracy: 0.9528\n",
      "Epoch 25/25\n",
      "220/220 [==============================] - 19s 86ms/step - loss: 0.1365 - accuracy: 0.9511\n"
     ]
    }
   ],
   "source": [
    "print(\"[INFO] training head...\")\n",
    "H = model.fit_generator(\n",
    "\ttrainAug.flow(trainX, trainY, batch_size=BS),\n",
    "\tsteps_per_epoch=len(trainX) // BS,\n",
    "\tvalidation_data=(testX, testY),\n",
    "\tvalidation_steps=len(testX) // BS,\n",
    "\tepochs=EPOCHS)"
   ]
  },
  {
   "cell_type": "code",
   "execution_count": 31,
   "metadata": {
    "execution": {
     "iopub.execute_input": "2023-01-01T16:55:21.757678Z",
     "iopub.status.busy": "2023-01-01T16:55:21.757284Z",
     "iopub.status.idle": "2023-01-01T16:55:22.089212Z",
     "shell.execute_reply": "2023-01-01T16:55:22.088186Z",
     "shell.execute_reply.started": "2023-01-01T16:55:21.757643Z"
    }
   },
   "outputs": [
    {
     "data": {
      "image/png": "[encoded data removed]",
      "text/plain": [
       "<Figure size 864x864 with 2 Axes>"
      ]
     },
     "metadata": {
      "needs_background": "light"
     },
     "output_type": "display_data"
    }
   ],
   "source": [
    "from matplotlib import pyplot\n",
    "pyplot.figure(figsize=(12,12))\n",
    "# plot loss during training\n",
    "pyplot.subplot(211)\n",
    "pyplot.title('Vgg16 Loss')\n",
    "pyplot.plot(H.history['loss'], label='train')\n",
    "# pyplot.plot(H.history['val_loss'], label='Validation')\n",
    "pyplot.legend()\n",
    "# plot accuracy during training\n",
    "pyplot.subplot(212)\n",
    "pyplot.title('Vgg16 Accuracy')\n",
    "pyplot.plot(H.history['accuracy'], label='train')\n",
    "# pyplot.plot(H.history['val_accuracy'], label='Validation')\n",
    "pyplot.legend()\n",
    "pyplot.show()"
   ]
  },
  {
   "cell_type": "code",
   "execution_count": 35,
   "metadata": {
    "execution": {
     "iopub.execute_input": "2022-12-22T17:33:50.555322Z",
     "iopub.status.busy": "2022-12-22T17:33:50.554943Z",
     "iopub.status.idle": "2022-12-22T17:33:50.690106Z",
     "shell.execute_reply": "2022-12-22T17:33:50.688829Z",
     "shell.execute_reply.started": "2022-12-22T17:33:50.555292Z"
    }
   },
   "outputs": [],
   "source": [
    "model.save('BEST_model.h5')"
   ]
  },
  {
   "cell_type": "code",
   "execution_count": 36,
   "metadata": {
    "execution": {
     "iopub.execute_input": "2022-12-22T17:34:15.960058Z",
     "iopub.status.busy": "2022-12-22T17:34:15.959676Z",
     "iopub.status.idle": "2022-12-22T17:34:16.181332Z",
     "shell.execute_reply": "2022-12-22T17:34:16.180322Z",
     "shell.execute_reply.started": "2022-12-22T17:34:15.960024Z"
    }
   },
   "outputs": [],
   "source": [
    "model = load_model('BEST_model.h5')"
   ]
  },
  {
   "cell_type": "code",
   "execution_count": 37,
   "metadata": {
    "execution": {
     "iopub.execute_input": "2022-12-22T17:35:24.488729Z",
     "iopub.status.busy": "2022-12-22T17:35:24.488051Z",
     "iopub.status.idle": "2022-12-22T17:35:24.654334Z",
     "shell.execute_reply": "2022-12-22T17:35:24.653397Z",
     "shell.execute_reply.started": "2022-12-22T17:35:24.488697Z"
    }
   },
   "outputs": [],
   "source": [
    "test_image = image.load_img('/kaggle/input/fall-mog-halfdata/data/fall/0880m.jpg',target_size=[224,224])\n",
    "test_image = image.img_to_array(test_image)\n",
    "test_image = test_image/255\n",
    "test_image = np.expand_dims(test_image,axis=0)\n",
    "result = model.predict(test_image)"
   ]
  },
  {
   "cell_type": "code",
   "execution_count": 38,
   "metadata": {
    "execution": {
     "iopub.execute_input": "2022-12-22T17:35:33.291384Z",
     "iopub.status.busy": "2022-12-22T17:35:33.291012Z",
     "iopub.status.idle": "2022-12-22T17:35:33.300097Z",
     "shell.execute_reply": "2022-12-22T17:35:33.298928Z",
     "shell.execute_reply.started": "2022-12-22T17:35:33.291353Z"
    }
   },
   "outputs": [
    {
     "data": {
      "text/plain": [
       "array([[9.9992335e-01, 7.6698292e-05]], dtype=float32)"
      ]
     },
     "execution_count": 38,
     "metadata": {},
     "output_type": "execute_result"
    }
   ],
   "source": [
    "result"
   ]
  },
  {
   "cell_type": "code",
   "execution_count": 23,
   "metadata": {
    "execution": {
     "iopub.execute_input": "2022-12-22T16:41:11.088556Z",
     "iopub.status.busy": "2022-12-22T16:41:11.087987Z",
     "iopub.status.idle": "2022-12-22T16:41:11.093014Z",
     "shell.execute_reply": "2022-12-22T16:41:11.092019Z",
     "shell.execute_reply.started": "2022-12-22T16:41:11.088522Z"
    }
   },
   "outputs": [],
   "source": [
    "from tensorflow.keras.preprocessing import image\n"
   ]
  },
  {
   "cell_type": "code",
   "execution_count": 33,
   "metadata": {
    "execution": {
     "iopub.execute_input": "2022-12-22T16:56:24.820453Z",
     "iopub.status.busy": "2022-12-22T16:56:24.820104Z",
     "iopub.status.idle": "2022-12-22T16:56:24.931311Z",
     "shell.execute_reply": "2022-12-22T16:56:24.930307Z",
     "shell.execute_reply.started": "2022-12-22T16:56:24.820424Z"
    }
   },
   "outputs": [
    {
     "name": "stdout",
     "output_type": "stream",
     "text": [
      "Found 2201 images belonging to 1 classes.\n"
     ]
    }
   ],
   "source": [
    "test_generator = trainAug.flow_from_directory('/kaggle/input/fall-mog-halfdata', \n",
    "                                                    target_size=(200, 200), \n",
    "                                                    batch_size = 50, \n",
    "                                                    class_mode=\"categorical\")"
   ]
  },
  {
   "cell_type": "code",
   "execution_count": 29,
   "metadata": {
    "execution": {
     "iopub.execute_input": "2022-12-22T16:46:32.854743Z",
     "iopub.status.busy": "2022-12-22T16:46:32.853749Z",
     "iopub.status.idle": "2022-12-22T16:46:33.070959Z",
     "shell.execute_reply": "2022-12-22T16:46:33.068911Z",
     "shell.execute_reply.started": "2022-12-22T16:46:32.854704Z"
    }
   },
   "outputs": [
    {
     "data": {
      "image/png": "[encoded data removed]",
      "text/plain": [
       "<Figure size 432x288 with 1 Axes>"
      ]
     },
     "metadata": {
      "needs_background": "light"
     },
     "output_type": "display_data"
    },
    {
     "ename": "ValueError",
     "evalue": "Failed to find data adapter that can handle input: <class 'PIL.Image.Image'>, <class 'NoneType'>",
     "output_type": "error",
     "traceback": [
      "\u001b[0;31m---------------------------------------------------------------------------\u001b[0m",
      "\u001b[0;31mValueError\u001b[0m                                Traceback (most recent call last)",
      "\u001b[0;32m/tmp/ipykernel_23/1786359680.py\u001b[0m in \u001b[0;36m<module>\u001b[0;34m\u001b[0m\n\u001b[1;32m      9\u001b[0m \u001b[0;31m# ims= ims.all()\u001b[0m\u001b[0;34m\u001b[0m\u001b[0;34m\u001b[0m\u001b[0;34m\u001b[0m\u001b[0m\n\u001b[1;32m     10\u001b[0m \u001b[0;34m\u001b[0m\u001b[0m\n\u001b[0;32m---> 11\u001b[0;31m \u001b[0mval\u001b[0m \u001b[0;34m=\u001b[0m \u001b[0mmodel\u001b[0m\u001b[0;34m.\u001b[0m\u001b[0mpredict\u001b[0m\u001b[0;34m(\u001b[0m\u001b[0mimg\u001b[0m\u001b[0;34m)\u001b[0m\u001b[0;34m\u001b[0m\u001b[0;34m\u001b[0m\u001b[0m\n\u001b[0m\u001b[1;32m     12\u001b[0m \u001b[0;32mif\u001b[0m \u001b[0mval\u001b[0m \u001b[0;34m==\u001b[0m \u001b[0;36m0\u001b[0m\u001b[0;34m:\u001b[0m\u001b[0;34m\u001b[0m\u001b[0;34m\u001b[0m\u001b[0m\n\u001b[1;32m     13\u001b[0m     \u001b[0mprint\u001b[0m\u001b[0;34m(\u001b[0m\u001b[0;34m\"fall\"\u001b[0m\u001b[0;34m)\u001b[0m\u001b[0;34m\u001b[0m\u001b[0;34m\u001b[0m\u001b[0m\n",
      "\u001b[0;32m/opt/conda/lib/python3.7/site-packages/keras/engine/training.py\u001b[0m in \u001b[0;36mpredict\u001b[0;34m(self, x, batch_size, verbose, steps, callbacks, max_queue_size, workers, use_multiprocessing)\u001b[0m\n\u001b[1;32m   1728\u001b[0m           \u001b[0muse_multiprocessing\u001b[0m\u001b[0;34m=\u001b[0m\u001b[0muse_multiprocessing\u001b[0m\u001b[0;34m,\u001b[0m\u001b[0;34m\u001b[0m\u001b[0;34m\u001b[0m\u001b[0m\n\u001b[1;32m   1729\u001b[0m           \u001b[0mmodel\u001b[0m\u001b[0;34m=\u001b[0m\u001b[0mself\u001b[0m\u001b[0;34m,\u001b[0m\u001b[0;34m\u001b[0m\u001b[0;34m\u001b[0m\u001b[0m\n\u001b[0;32m-> 1730\u001b[0;31m           steps_per_execution=self._steps_per_execution)\n\u001b[0m\u001b[1;32m   1731\u001b[0m \u001b[0;34m\u001b[0m\u001b[0m\n\u001b[1;32m   1732\u001b[0m       \u001b[0;31m# Container that configures and calls `tf.keras.Callback`s.\u001b[0m\u001b[0;34m\u001b[0m\u001b[0;34m\u001b[0m\u001b[0;34m\u001b[0m\u001b[0m\n",
      "\u001b[0;32m/opt/conda/lib/python3.7/site-packages/keras/engine/data_adapter.py\u001b[0m in \u001b[0;36mget_data_handler\u001b[0;34m(*args, **kwargs)\u001b[0m\n\u001b[1;32m   1381\u001b[0m   \u001b[0;32mif\u001b[0m \u001b[0mgetattr\u001b[0m\u001b[0;34m(\u001b[0m\u001b[0mkwargs\u001b[0m\u001b[0;34m[\u001b[0m\u001b[0;34m\"model\"\u001b[0m\u001b[0;34m]\u001b[0m\u001b[0;34m,\u001b[0m \u001b[0;34m\"_cluster_coordinator\"\u001b[0m\u001b[0;34m,\u001b[0m \u001b[0;32mNone\u001b[0m\u001b[0;34m)\u001b[0m\u001b[0;34m:\u001b[0m\u001b[0;34m\u001b[0m\u001b[0;34m\u001b[0m\u001b[0m\n\u001b[1;32m   1382\u001b[0m     \u001b[0;32mreturn\u001b[0m \u001b[0m_ClusterCoordinatorDataHandler\u001b[0m\u001b[0;34m(\u001b[0m\u001b[0;34m*\u001b[0m\u001b[0margs\u001b[0m\u001b[0;34m,\u001b[0m \u001b[0;34m**\u001b[0m\u001b[0mkwargs\u001b[0m\u001b[0;34m)\u001b[0m\u001b[0;34m\u001b[0m\u001b[0;34m\u001b[0m\u001b[0m\n\u001b[0;32m-> 1383\u001b[0;31m   \u001b[0;32mreturn\u001b[0m \u001b[0mDataHandler\u001b[0m\u001b[0;34m(\u001b[0m\u001b[0;34m*\u001b[0m\u001b[0margs\u001b[0m\u001b[0;34m,\u001b[0m \u001b[0;34m**\u001b[0m\u001b[0mkwargs\u001b[0m\u001b[0;34m)\u001b[0m\u001b[0;34m\u001b[0m\u001b[0;34m\u001b[0m\u001b[0m\n\u001b[0m\u001b[1;32m   1384\u001b[0m \u001b[0;34m\u001b[0m\u001b[0m\n\u001b[1;32m   1385\u001b[0m \u001b[0;34m\u001b[0m\u001b[0m\n",
      "\u001b[0;32m/opt/conda/lib/python3.7/site-packages/keras/engine/data_adapter.py\u001b[0m in \u001b[0;36m__init__\u001b[0;34m(self, x, y, sample_weight, batch_size, steps_per_epoch, initial_epoch, epochs, shuffle, class_weight, max_queue_size, workers, use_multiprocessing, model, steps_per_execution, distribute)\u001b[0m\n\u001b[1;32m   1135\u001b[0m       \u001b[0mself\u001b[0m\u001b[0;34m.\u001b[0m\u001b[0m_steps_per_execution_value\u001b[0m \u001b[0;34m=\u001b[0m \u001b[0msteps_per_execution\u001b[0m\u001b[0;34m.\u001b[0m\u001b[0mnumpy\u001b[0m\u001b[0;34m(\u001b[0m\u001b[0;34m)\u001b[0m\u001b[0;34m.\u001b[0m\u001b[0mitem\u001b[0m\u001b[0;34m(\u001b[0m\u001b[0;34m)\u001b[0m\u001b[0;34m\u001b[0m\u001b[0;34m\u001b[0m\u001b[0m\n\u001b[1;32m   1136\u001b[0m \u001b[0;34m\u001b[0m\u001b[0m\n\u001b[0;32m-> 1137\u001b[0;31m     \u001b[0madapter_cls\u001b[0m \u001b[0;34m=\u001b[0m \u001b[0mselect_data_adapter\u001b[0m\u001b[0;34m(\u001b[0m\u001b[0mx\u001b[0m\u001b[0;34m,\u001b[0m \u001b[0my\u001b[0m\u001b[0;34m)\u001b[0m\u001b[0;34m\u001b[0m\u001b[0;34m\u001b[0m\u001b[0m\n\u001b[0m\u001b[1;32m   1138\u001b[0m     self._adapter = adapter_cls(\n\u001b[1;32m   1139\u001b[0m         \u001b[0mx\u001b[0m\u001b[0;34m,\u001b[0m\u001b[0;34m\u001b[0m\u001b[0;34m\u001b[0m\u001b[0m\n",
      "\u001b[0;32m/opt/conda/lib/python3.7/site-packages/keras/engine/data_adapter.py\u001b[0m in \u001b[0;36mselect_data_adapter\u001b[0;34m(x, y)\u001b[0m\n\u001b[1;32m    977\u001b[0m         \u001b[0;34m\"Failed to find data adapter that can handle \"\u001b[0m\u001b[0;34m\u001b[0m\u001b[0;34m\u001b[0m\u001b[0m\n\u001b[1;32m    978\u001b[0m         \"input: {}, {}\".format(\n\u001b[0;32m--> 979\u001b[0;31m             _type_name(x), _type_name(y)))\n\u001b[0m\u001b[1;32m    980\u001b[0m   \u001b[0;32melif\u001b[0m \u001b[0mlen\u001b[0m\u001b[0;34m(\u001b[0m\u001b[0madapter_cls\u001b[0m\u001b[0;34m)\u001b[0m \u001b[0;34m>\u001b[0m \u001b[0;36m1\u001b[0m\u001b[0;34m:\u001b[0m\u001b[0;34m\u001b[0m\u001b[0;34m\u001b[0m\u001b[0m\n\u001b[1;32m    981\u001b[0m     raise RuntimeError(\n",
      "\u001b[0;31mValueError\u001b[0m: Failed to find data adapter that can handle input: <class 'PIL.Image.Image'>, <class 'NoneType'>"
     ]
    }
   ],
   "source": [
    "# '/kaggle/input/filess/asdad.jpg'\n",
    "img = image.load_img(\"/kaggle/input/fall-mog-halfdata/data/fall/0n928.jpg\" , target_size = (224,224))\n",
    "plt.imshow(img)\n",
    "plt.show()\n",
    "\n",
    "# X = image.img_to_array(img)\n",
    "# X = np.expand_dims(X, axis = 0)\n",
    "# ims = np.vstack([X])\n",
    "# ims= ims.all()\n",
    "\n",
    "val = model.predict(img)\n",
    "if val == 0:\n",
    "    print(\"fall\")\n",
    "else:\n",
    "    print(\"not\")\n"
   ]
  },
  {
   "cell_type": "code",
   "execution_count": 34,
   "metadata": {
    "execution": {
     "iopub.execute_input": "2022-12-22T16:56:52.422803Z",
     "iopub.status.busy": "2022-12-22T16:56:52.422448Z",
     "iopub.status.idle": "2022-12-22T16:56:58.287151Z",
     "shell.execute_reply": "2022-12-22T16:56:58.285955Z",
     "shell.execute_reply.started": "2022-12-22T16:56:52.422771Z"
    }
   },
   "outputs": [
    {
     "name": "stderr",
     "output_type": "stream",
     "text": [
      "/opt/conda/lib/python3.7/site-packages/keras/engine/training.py:2035: UserWarning: `Model.predict_generator` is deprecated and will be removed in a future version. Please use `Model.predict`, which supports generators.\n",
      "  warnings.warn('`Model.predict_generator` is deprecated and '\n"
     ]
    },
    {
     "name": "stdout",
     "output_type": "stream",
     "text": [
      "[[1.0000000e+00 0.0000000e+00]\n",
      " [0.0000000e+00 1.0000000e+00]\n",
      " [0.0000000e+00 1.0000000e+00]\n",
      " [0.0000000e+00 1.0000000e+00]\n",
      " [0.0000000e+00 1.0000000e+00]\n",
      " [1.0000000e+00 0.0000000e+00]\n",
      " [0.0000000e+00 1.0000000e+00]\n",
      " [1.0000000e+00 0.0000000e+00]\n",
      " [0.0000000e+00 1.0000000e+00]\n",
      " [1.0000000e+00 4.1487432e-08]\n",
      " [0.0000000e+00 1.0000000e+00]\n",
      " [4.0321347e-35 1.0000000e+00]\n",
      " [1.0000000e+00 0.0000000e+00]\n",
      " [1.0000000e+00 0.0000000e+00]\n",
      " [1.0000000e+00 2.1219357e-19]\n",
      " [1.0000000e+00 0.0000000e+00]\n",
      " [1.0000000e+00 1.5959254e-21]\n",
      " [1.0000000e+00 0.0000000e+00]\n",
      " [0.0000000e+00 1.0000000e+00]\n",
      " [0.0000000e+00 1.0000000e+00]\n",
      " [1.0000000e+00 0.0000000e+00]\n",
      " [1.0000000e+00 0.0000000e+00]\n",
      " [1.0000000e+00 0.0000000e+00]\n",
      " [1.9596962e-06 9.9999809e-01]\n",
      " [1.0000000e+00 0.0000000e+00]\n",
      " [1.6857644e-18 1.0000000e+00]\n",
      " [4.5422335e-25 1.0000000e+00]\n",
      " [0.0000000e+00 1.0000000e+00]\n",
      " [0.0000000e+00 1.0000000e+00]\n",
      " [9.9999928e-01 7.0573901e-07]\n",
      " [0.0000000e+00 1.0000000e+00]\n",
      " [2.0360369e-07 9.9999976e-01]\n",
      " [1.0000000e+00 0.0000000e+00]\n",
      " [0.0000000e+00 1.0000000e+00]\n",
      " [1.4338324e-06 9.9999857e-01]\n",
      " [1.0000000e+00 1.8938416e-22]\n",
      " [0.0000000e+00 1.0000000e+00]\n",
      " [4.0214490e-10 1.0000000e+00]\n",
      " [0.0000000e+00 1.0000000e+00]\n",
      " [1.0000000e+00 0.0000000e+00]\n",
      " [0.0000000e+00 1.0000000e+00]\n",
      " [1.4579246e-23 1.0000000e+00]\n",
      " [0.0000000e+00 1.0000000e+00]\n",
      " [0.0000000e+00 1.0000000e+00]\n",
      " [1.0000000e+00 0.0000000e+00]\n",
      " [0.0000000e+00 1.0000000e+00]\n",
      " [1.0000000e+00 9.6040557e-35]\n",
      " [0.0000000e+00 1.0000000e+00]\n",
      " [0.0000000e+00 1.0000000e+00]\n",
      " [1.0000000e+00 0.0000000e+00]]\n"
     ]
    }
   ],
   "source": [
    "pred = model.predict_generator(test_generator, steps=1)\n",
    "print(pred)"
   ]
  },
  {
   "cell_type": "code",
   "execution_count": null,
   "metadata": {},
   "outputs": [],
   "source": []
  }
 ],
 "metadata": {
  "kernelspec": {
   "display_name": "Python 3 (ipykernel)",
   "language": "python",
   "name": "python3"
  },
  "language_info": {
   "codemirror_mode": {
    "name": "ipython",
    "version": 3
   },
   "file_extension": ".py",
   "mimetype": "text/x-python",
   "name": "python",
   "nbconvert_exporter": "python",
   "pygments_lexer": "ipython3",
   "version": "3.9.12"
  }
 },
 "nbformat": 4,
 "nbformat_minor": 4
}
